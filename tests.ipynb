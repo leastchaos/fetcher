{
 "cells": [
  {
   "cell_type": "code",
   "execution_count": 8,
   "metadata": {},
   "outputs": [],
   "source": [
    "import ccxt\n",
    "for exchange in [\"binance\", \"kucoin\", \"cryptocom\", \"ftx\", \"gateio\", \"ascendex\"]:\n",
    "    exchange = getattr(ccxt, exchange)()\n",
    "    try:\n",
    "        print(exchange.id, len(exchange.fetch_tickers()))\n",
    "    except:\n",
    "        print(exchange.id)\n"
   ]
  }
 ],
 "metadata": {
  "kernelspec": {
   "display_name": "Python 3.10.4 ('fetcher')",
   "language": "python",
   "name": "python3"
  },
  "language_info": {
   "codemirror_mode": {
    "name": "ipython",
    "version": 3
   },
   "file_extension": ".py",
   "mimetype": "text/x-python",
   "name": "python",
   "nbconvert_exporter": "python",
   "pygments_lexer": "ipython3",
   "version": "3.10.4"
  },
  "orig_nbformat": 4,
  "vscode": {
   "interpreter": {
    "hash": "7083632ac4d550cedbe30291b557601b6d72196741de5e0ce5143640d4306001"
   }
  }
 },
 "nbformat": 4,
 "nbformat_minor": 2
}
